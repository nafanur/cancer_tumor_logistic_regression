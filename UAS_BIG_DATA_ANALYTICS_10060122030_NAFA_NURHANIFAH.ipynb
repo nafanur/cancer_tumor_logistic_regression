{
  "nbformat": 4,
  "nbformat_minor": 0,
  "metadata": {
    "colab": {
      "provenance": [],
      "include_colab_link": true
    },
    "kernelspec": {
      "name": "python3",
      "display_name": "Python 3"
    }
  },
  "cells": [
    {
      "cell_type": "markdown",
      "metadata": {
        "id": "view-in-github",
        "colab_type": "text"
      },
      "source": [
        "<a href=\"https://colab.research.google.com/github/nafanur/cancer_tumor_logistic_regression/blob/main/UAS_BIG_DATA_ANALYTICS_10060122030_NAFA_NURHANIFAH.ipynb\" target=\"_parent\"><img src=\"https://colab.research.google.com/assets/colab-badge.svg\" alt=\"Open In Colab\"/></a>"
      ]
    },
    {
      "cell_type": "markdown",
      "source": [
        "# Import library"
      ],
      "metadata": {
        "id": "_ugborE0Ncwi"
      }
    },
    {
      "cell_type": "code",
      "source": [
        "# IMPORT pyspark\n",
        "from pyspark.sql import SparkSession\n",
        "from pyspark.sql import functions as fn\n",
        "from pyspark.mllib.stat import Statistics\n",
        "\n",
        "# import untuk regresi logistik\n",
        "from pyspark.ml.feature import VectorAssembler # gabungkan vektor predictor menjadi satu kolom\n",
        "from pyspark.ml.classification import LogisticRegression\n",
        "from pyspark.ml.evaluation import BinaryClassificationEvaluator\n",
        "\n",
        "from pyspark.ml.linalg import Vectors\n",
        "from pyspark.ml.stat import Correlation\n",
        "from pyspark.ml.linalg import Vectors\n",
        "\n",
        "import matplotlib.pyplot as plt"
      ],
      "metadata": {
        "id": "nmIwf_DR-JyG"
      },
      "execution_count": null,
      "outputs": []
    },
    {
      "cell_type": "code",
      "metadata": {
        "id": "axvWKMWGNUtF",
        "colab": {
          "base_uri": "https://localhost:8080/"
        },
        "outputId": "8111e2fc-ac01-40a0-a1ea-94668fcced7b"
      },
      "source": [
        "from google.colab import drive\n",
        "drive.mount('/content/drive')"
      ],
      "execution_count": null,
      "outputs": [
        {
          "output_type": "stream",
          "name": "stdout",
          "text": [
            "Mounted at /content/drive\n"
          ]
        }
      ]
    },
    {
      "cell_type": "markdown",
      "source": [
        "# start spark session"
      ],
      "metadata": {
        "id": "wbxdHPL3OiOb"
      }
    },
    {
      "cell_type": "code",
      "metadata": {
        "id": "JQnHJ0xGFwcN"
      },
      "source": [
        "from pyspark.sql import SparkSession\n",
        "spark = SparkSession.builder.master('local').getOrCreate() ##spark object"
      ],
      "execution_count": null,
      "outputs": []
    },
    {
      "cell_type": "markdown",
      "source": [
        "# load data"
      ],
      "metadata": {
        "id": "njN3RaVYPiXh"
      }
    },
    {
      "cell_type": "code",
      "metadata": {
        "id": "A2fuWkrZNmFd"
      },
      "source": [
        "path='/content/drive/MyDrive/Colab Notebooks/cancer_tumor.csv'"
      ],
      "execution_count": null,
      "outputs": []
    },
    {
      "cell_type": "code",
      "metadata": {
        "id": "7n5G9KQrNVIZ",
        "colab": {
          "base_uri": "https://localhost:8080/"
        },
        "outputId": "0d9de635-625f-4634-ee23-2b2a4663e7cf"
      },
      "source": [
        "df1=spark.read.csv(path,inferSchema=True, header=True)\n",
        "df1.show(6)\n",
        "# analisis regresi logistik: mengklasifikasikan tumor sebagai ganas atau jinak berdasarkan prediktor ini\n",
        "# diagnosis (string): apakah kanker itu ganas atau tidak (M=ganas;B:jinak)"
      ],
      "execution_count": null,
      "outputs": [
        {
          "output_type": "stream",
          "name": "stdout",
          "text": [
            "+---------+-----------+------------+--------------+---------+---------------+----------------+--------------+-------------------+-------------+----------------------+---------+----------+------------+-------+-------------+--------------+------------+-----------------+-----------+--------------------+------------+-------------+---------------+----------+----------------+-----------------+---------------+--------------------+--------------+-----------------------+\n",
            "|diagnosis|radius_mean|texture_mean|perimeter_mean|area_mean|smoothness_mean|compactness_mean|concavity_mean|concave points_mean|symmetry_mean|fractal_dimension_mean|radius_se|texture_se|perimeter_se|area_se|smoothness_se|compactness_se|concavity_se|concave points_se|symmetry_se|fractal_dimension_se|radius_worst|texture_worst|perimeter_worst|area_worst|smoothness_worst|compactness_worst|concavity_worst|concave points_worst|symmetry_worst|fractal_dimension_worst|\n",
            "+---------+-----------+------------+--------------+---------+---------------+----------------+--------------+-------------------+-------------+----------------------+---------+----------+------------+-------+-------------+--------------+------------+-----------------+-----------+--------------------+------------+-------------+---------------+----------+----------------+-----------------+---------------+--------------------+--------------+-----------------------+\n",
            "|        M|      17.99|       10.38|         122.8|   1001.0|         0.1184|          0.2776|        0.3001|             0.1471|       0.2419|               0.07871|    1.095|    0.9053|       8.589|  153.4|     0.006399|       0.04904|     0.05373|          0.01587|    0.03003|            0.006193|       25.38|        17.33|          184.6|    2019.0|          0.1622|           0.6656|         0.7119|              0.2654|        0.4601|                 0.1189|\n",
            "|        M|      20.57|       17.77|         132.9|   1326.0|        0.08474|         0.07864|        0.0869|            0.07017|       0.1812|               0.05667|   0.5435|    0.7339|       3.398|  74.08|     0.005225|       0.01308|      0.0186|           0.0134|    0.01389|            0.003532|       24.99|        23.41|          158.8|    1956.0|          0.1238|           0.1866|         0.2416|               0.186|         0.275|                0.08902|\n",
            "|        M|      19.69|       21.25|         130.0|   1203.0|         0.1096|          0.1599|        0.1974|             0.1279|       0.2069|               0.05999|   0.7456|    0.7869|       4.585|  94.03|      0.00615|       0.04006|     0.03832|          0.02058|     0.0225|            0.004571|       23.57|        25.53|          152.5|    1709.0|          0.1444|           0.4245|         0.4504|               0.243|        0.3613|                0.08758|\n",
            "|        M|      11.42|       20.38|         77.58|    386.1|         0.1425|          0.2839|        0.2414|             0.1052|       0.2597|               0.09744|   0.4956|     1.156|       3.445|  27.23|      0.00911|       0.07458|     0.05661|          0.01867|    0.05963|            0.009208|       14.91|         26.5|          98.87|     567.7|          0.2098|           0.8663|         0.6869|              0.2575|        0.6638|                  0.173|\n",
            "|        M|      20.29|       14.34|         135.1|   1297.0|         0.1003|          0.1328|         0.198|             0.1043|       0.1809|               0.05883|   0.7572|    0.7813|       5.438|  94.44|      0.01149|       0.02461|     0.05688|          0.01885|    0.01756|            0.005115|       22.54|        16.67|          152.2|    1575.0|          0.1374|            0.205|            0.4|              0.1625|        0.2364|                0.07678|\n",
            "|        M|      12.45|        15.7|         82.57|    477.1|         0.1278|            0.17|        0.1578|            0.08089|       0.2087|               0.07613|   0.3345|    0.8902|       2.217|  27.19|      0.00751|       0.03345|     0.03672|          0.01137|    0.02165|            0.005082|       15.47|        23.75|          103.4|     741.6|          0.1791|           0.5249|         0.5355|              0.1741|        0.3985|                 0.1244|\n",
            "+---------+-----------+------------+--------------+---------+---------------+----------------+--------------+-------------------+-------------+----------------------+---------+----------+------------+-------+-------------+--------------+------------+-----------------+-----------+--------------------+------------+-------------+---------------+----------+----------------+-----------------+---------------+--------------------+--------------+-----------------------+\n",
            "only showing top 6 rows\n",
            "\n"
          ]
        }
      ]
    },
    {
      "cell_type": "markdown",
      "source": [
        "## convert response variable M=1 and B=0\n",
        "\n",
        "Ubah string menjadi numerik\n",
        "M(𝑚𝑎𝑙𝑖𝑔𝑛𝑎𝑛𝑡/ganas)=1 dan\n",
        "B(𝑏𝑒𝑛𝑖𝑔𝑛/jinak)=0"
      ],
      "metadata": {
        "id": "s8kGqEY_PxWp"
      }
    },
    {
      "cell_type": "code",
      "metadata": {
        "id": "6Eisn4Jy70OD",
        "colab": {
          "base_uri": "https://localhost:8080/"
        },
        "outputId": "8a3d307b-b76c-4710-f5a7-7c67dd182061"
      },
      "source": [
        "df2=df1.withColumn(\"diagnosis\", fn.when(fn.col(\"diagnosis\") == 'M' , 1).otherwise(0)) # menggunakan fn\n",
        "df2.show()"
      ],
      "execution_count": null,
      "outputs": [
        {
          "output_type": "stream",
          "name": "stdout",
          "text": [
            "+---------+-----------+------------+--------------+---------+---------------+----------------+--------------+-------------------+-------------+----------------------+---------+----------+------------+-------+-------------+--------------+------------+-----------------+-----------+--------------------+------------+-------------+---------------+----------+----------------+-----------------+---------------+--------------------+--------------+-----------------------+\n",
            "|diagnosis|radius_mean|texture_mean|perimeter_mean|area_mean|smoothness_mean|compactness_mean|concavity_mean|concave points_mean|symmetry_mean|fractal_dimension_mean|radius_se|texture_se|perimeter_se|area_se|smoothness_se|compactness_se|concavity_se|concave points_se|symmetry_se|fractal_dimension_se|radius_worst|texture_worst|perimeter_worst|area_worst|smoothness_worst|compactness_worst|concavity_worst|concave points_worst|symmetry_worst|fractal_dimension_worst|\n",
            "+---------+-----------+------------+--------------+---------+---------------+----------------+--------------+-------------------+-------------+----------------------+---------+----------+------------+-------+-------------+--------------+------------+-----------------+-----------+--------------------+------------+-------------+---------------+----------+----------------+-----------------+---------------+--------------------+--------------+-----------------------+\n",
            "|        1|      17.99|       10.38|         122.8|   1001.0|         0.1184|          0.2776|        0.3001|             0.1471|       0.2419|               0.07871|    1.095|    0.9053|       8.589|  153.4|     0.006399|       0.04904|     0.05373|          0.01587|    0.03003|            0.006193|       25.38|        17.33|          184.6|    2019.0|          0.1622|           0.6656|         0.7119|              0.2654|        0.4601|                 0.1189|\n",
            "|        1|      20.57|       17.77|         132.9|   1326.0|        0.08474|         0.07864|        0.0869|            0.07017|       0.1812|               0.05667|   0.5435|    0.7339|       3.398|  74.08|     0.005225|       0.01308|      0.0186|           0.0134|    0.01389|            0.003532|       24.99|        23.41|          158.8|    1956.0|          0.1238|           0.1866|         0.2416|               0.186|         0.275|                0.08902|\n",
            "|        1|      19.69|       21.25|         130.0|   1203.0|         0.1096|          0.1599|        0.1974|             0.1279|       0.2069|               0.05999|   0.7456|    0.7869|       4.585|  94.03|      0.00615|       0.04006|     0.03832|          0.02058|     0.0225|            0.004571|       23.57|        25.53|          152.5|    1709.0|          0.1444|           0.4245|         0.4504|               0.243|        0.3613|                0.08758|\n",
            "|        1|      11.42|       20.38|         77.58|    386.1|         0.1425|          0.2839|        0.2414|             0.1052|       0.2597|               0.09744|   0.4956|     1.156|       3.445|  27.23|      0.00911|       0.07458|     0.05661|          0.01867|    0.05963|            0.009208|       14.91|         26.5|          98.87|     567.7|          0.2098|           0.8663|         0.6869|              0.2575|        0.6638|                  0.173|\n",
            "|        1|      20.29|       14.34|         135.1|   1297.0|         0.1003|          0.1328|         0.198|             0.1043|       0.1809|               0.05883|   0.7572|    0.7813|       5.438|  94.44|      0.01149|       0.02461|     0.05688|          0.01885|    0.01756|            0.005115|       22.54|        16.67|          152.2|    1575.0|          0.1374|            0.205|            0.4|              0.1625|        0.2364|                0.07678|\n",
            "|        1|      12.45|        15.7|         82.57|    477.1|         0.1278|            0.17|        0.1578|            0.08089|       0.2087|               0.07613|   0.3345|    0.8902|       2.217|  27.19|      0.00751|       0.03345|     0.03672|          0.01137|    0.02165|            0.005082|       15.47|        23.75|          103.4|     741.6|          0.1791|           0.5249|         0.5355|              0.1741|        0.3985|                 0.1244|\n",
            "|        1|      18.25|       19.98|         119.6|   1040.0|        0.09463|           0.109|        0.1127|              0.074|       0.1794|               0.05742|   0.4467|    0.7732|        3.18|  53.91|     0.004314|       0.01382|     0.02254|          0.01039|    0.01369|            0.002179|       22.88|        27.66|          153.2|    1606.0|          0.1442|           0.2576|         0.3784|              0.1932|        0.3063|                0.08368|\n",
            "|        1|      13.71|       20.83|          90.2|    577.9|         0.1189|          0.1645|       0.09366|            0.05985|       0.2196|               0.07451|   0.5835|     1.377|       3.856|  50.96|     0.008805|       0.03029|     0.02488|          0.01448|    0.01486|            0.005412|       17.06|        28.14|          110.6|     897.0|          0.1654|           0.3682|         0.2678|              0.1556|        0.3196|                 0.1151|\n",
            "|        1|       13.0|       21.82|          87.5|    519.8|         0.1273|          0.1932|        0.1859|            0.09353|        0.235|               0.07389|   0.3063|     1.002|       2.406|  24.32|     0.005731|       0.03502|     0.03553|          0.01226|    0.02143|            0.003749|       15.49|        30.73|          106.2|     739.3|          0.1703|           0.5401|          0.539|               0.206|        0.4378|                 0.1072|\n",
            "|        1|      12.46|       24.04|         83.97|    475.9|         0.1186|          0.2396|        0.2273|            0.08543|        0.203|               0.08243|   0.2976|     1.599|       2.039|  23.94|     0.007149|       0.07217|     0.07743|          0.01432|    0.01789|             0.01008|       15.09|        40.68|          97.65|     711.4|          0.1853|            1.058|          1.105|               0.221|        0.4366|                 0.2075|\n",
            "|        1|      16.02|       23.24|         102.7|    797.8|        0.08206|         0.06669|       0.03299|            0.03323|       0.1528|               0.05697|   0.3795|     1.187|       2.466|  40.51|     0.004029|      0.009269|     0.01101|         0.007591|     0.0146|            0.003042|       19.19|        33.88|          123.8|    1150.0|          0.1181|           0.1551|         0.1459|             0.09975|        0.2948|                0.08452|\n",
            "|        1|      15.78|       17.89|         103.6|    781.0|         0.0971|          0.1292|       0.09954|            0.06606|       0.1842|               0.06082|   0.5058|    0.9849|       3.564|  54.16|     0.005771|       0.04061|     0.02791|          0.01282|    0.02008|            0.004144|       20.42|        27.28|          136.5|    1299.0|          0.1396|           0.5609|         0.3965|               0.181|        0.3792|                 0.1048|\n",
            "|        1|      19.17|        24.8|         132.4|   1123.0|         0.0974|          0.2458|        0.2065|             0.1118|       0.2397|                 0.078|   0.9555|     3.568|       11.07|  116.2|     0.003139|       0.08297|      0.0889|           0.0409|    0.04484|             0.01284|       20.96|        29.94|          151.7|    1332.0|          0.1037|           0.3903|         0.3639|              0.1767|        0.3176|                 0.1023|\n",
            "|        1|      15.85|       23.95|         103.7|    782.7|        0.08401|          0.1002|       0.09938|            0.05364|       0.1847|               0.05338|   0.4033|     1.078|       2.903|  36.58|     0.009769|       0.03126|     0.05051|          0.01992|    0.02981|            0.003002|       16.84|        27.66|          112.0|     876.5|          0.1131|           0.1924|         0.2322|              0.1119|        0.2809|                0.06287|\n",
            "|        1|      13.73|       22.61|          93.6|    578.3|         0.1131|          0.2293|        0.2128|            0.08025|       0.2069|               0.07682|   0.2121|     1.169|       2.061|  19.21|     0.006429|       0.05936|     0.05501|          0.01628|    0.01961|            0.008093|       15.03|        32.01|          108.8|     697.7|          0.1651|           0.7725|         0.6943|              0.2208|        0.3596|                 0.1431|\n",
            "|        1|      14.54|       27.54|         96.73|    658.8|         0.1139|          0.1595|        0.1639|            0.07364|       0.2303|               0.07077|     0.37|     1.033|       2.879|  32.55|     0.005607|        0.0424|     0.04741|           0.0109|    0.01857|            0.005466|       17.46|        37.13|          124.1|     943.2|          0.1678|           0.6577|         0.7026|              0.1712|        0.4218|                 0.1341|\n",
            "|        1|      14.68|       20.13|         94.74|    684.5|        0.09867|           0.072|       0.07395|            0.05259|       0.1586|               0.05922|   0.4727|      1.24|       3.195|   45.4|     0.005718|       0.01162|     0.01998|          0.01109|     0.0141|            0.002085|       19.07|        30.88|          123.4|    1138.0|          0.1464|           0.1871|         0.2914|              0.1609|        0.3029|                0.08216|\n",
            "|        1|      16.13|       20.68|         108.1|    798.8|          0.117|          0.2022|        0.1722|             0.1028|       0.2164|               0.07356|   0.5692|     1.073|       3.854|  54.18|     0.007026|       0.02501|     0.03188|          0.01297|    0.01689|            0.004142|       20.96|        31.48|          136.8|    1315.0|          0.1789|           0.4233|         0.4784|              0.2073|        0.3706|                 0.1142|\n",
            "|        1|      19.81|       22.15|         130.0|   1260.0|        0.09831|          0.1027|        0.1479|            0.09498|       0.1582|               0.05395|   0.7582|     1.017|       5.865|  112.4|     0.006494|       0.01893|     0.03391|          0.01521|    0.01356|            0.001997|       27.32|        30.88|          186.8|    2398.0|          0.1512|            0.315|         0.5372|              0.2388|        0.2768|                0.07615|\n",
            "|        0|      13.54|       14.36|         87.46|    566.3|        0.09779|         0.08129|       0.06664|            0.04781|       0.1885|               0.05766|   0.2699|    0.7886|       2.058|  23.56|     0.008462|        0.0146|     0.02387|          0.01315|     0.0198|              0.0023|       15.11|        19.26|           99.7|     711.2|           0.144|           0.1773|          0.239|              0.1288|        0.2977|                0.07259|\n",
            "+---------+-----------+------------+--------------+---------+---------------+----------------+--------------+-------------------+-------------+----------------------+---------+----------+------------+-------+-------------+--------------+------------+-----------------+-----------+--------------------+------------+-------------+---------------+----------+----------------+-----------------+---------------+--------------------+--------------+-----------------------+\n",
            "only showing top 20 rows\n",
            "\n"
          ]
        }
      ]
    },
    {
      "cell_type": "code",
      "source": [
        "# menampilkan nama variabel kolom dari dataset kanker tumor\n",
        "print(df2.columns)\n",
        "print(\"Jumlah kolom:\", len(df2.columns))"
      ],
      "metadata": {
        "colab": {
          "base_uri": "https://localhost:8080/"
        },
        "id": "wXKwtUg2crP4",
        "outputId": "02c93510-f145-4cf3-96fc-5ff087d0bcab"
      },
      "execution_count": null,
      "outputs": [
        {
          "output_type": "stream",
          "name": "stdout",
          "text": [
            "['diagnosis', 'radius_mean', 'texture_mean', 'perimeter_mean', 'area_mean', 'smoothness_mean', 'compactness_mean', 'concavity_mean', 'concave points_mean', 'symmetry_mean', 'fractal_dimension_mean', 'radius_se', 'texture_se', 'perimeter_se', 'area_se', 'smoothness_se', 'compactness_se', 'concavity_se', 'concave points_se', 'symmetry_se', 'fractal_dimension_se', 'radius_worst', 'texture_worst', 'perimeter_worst', 'area_worst', 'smoothness_worst', 'compactness_worst', 'concavity_worst', 'concave points_worst', 'symmetry_worst', 'fractal_dimension_worst']\n",
            "Jumlah kolom: 31\n"
          ]
        }
      ]
    },
    {
      "cell_type": "code",
      "metadata": {
        "id": "g3X4mU6wBmAb"
      },
      "source": [
        "# membuat kolom vektor prediktor\n",
        "Pred_corr= ['radius_mean','texture_mean',\n",
        "'area_mean','perimeter_mean','compactness_mean','radius_se','area_se','perimeter_se','radius_worst',\n",
        "'texture_worst','area_worst','concavity_worst','symmetry_worst']\n",
        "### diagnosis --> variabel respon (Y))"
      ],
      "execution_count": null,
      "outputs": []
    },
    {
      "cell_type": "code",
      "metadata": {
        "id": "uVDdfXdTGwOd"
      },
      "source": [
        "# Creating vector column which will contain all the feature columns (fitur kolom)\n",
        "vector_col = \"Predictors\"\n",
        "assembler = VectorAssembler(inputCols=Pred_corr,\n",
        "                            outputCol=vector_col) ##assemble the inputs and outputs\n",
        "output = assembler.transform(df2)"
      ],
      "execution_count": null,
      "outputs": []
    },
    {
      "cell_type": "code",
      "metadata": {
        "id": "owrq3aHIFFJF"
      },
      "source": [
        "# Selecting only needful columns\n",
        "vector=output.select(\"Predictors\",\"diagnosis\") ## beberapa variabel X, variabel target/respon (Y)"
      ],
      "execution_count": null,
      "outputs": []
    },
    {
      "cell_type": "code",
      "metadata": {
        "id": "7OwTENjnkpOU",
        "colab": {
          "base_uri": "https://localhost:8080/"
        },
        "outputId": "b6d12f8e-f705-4810-a1cc-7925e835188a"
      },
      "source": [
        "vector.show(10,truncate=False)"
      ],
      "execution_count": null,
      "outputs": [
        {
          "output_type": "stream",
          "name": "stdout",
          "text": [
            "+-------------------------------------------------------------------------------------+---------+\n",
            "|Predictors                                                                           |diagnosis|\n",
            "+-------------------------------------------------------------------------------------+---------+\n",
            "|[17.99,10.38,1001.0,122.8,0.2776,1.095,153.4,8.589,25.38,17.33,2019.0,0.7119,0.4601] |1        |\n",
            "|[20.57,17.77,1326.0,132.9,0.07864,0.5435,74.08,3.398,24.99,23.41,1956.0,0.2416,0.275]|1        |\n",
            "|[19.69,21.25,1203.0,130.0,0.1599,0.7456,94.03,4.585,23.57,25.53,1709.0,0.4504,0.3613]|1        |\n",
            "|[11.42,20.38,386.1,77.58,0.2839,0.4956,27.23,3.445,14.91,26.5,567.7,0.6869,0.6638]   |1        |\n",
            "|[20.29,14.34,1297.0,135.1,0.1328,0.7572,94.44,5.438,22.54,16.67,1575.0,0.4,0.2364]   |1        |\n",
            "|[12.45,15.7,477.1,82.57,0.17,0.3345,27.19,2.217,15.47,23.75,741.6,0.5355,0.3985]     |1        |\n",
            "|[18.25,19.98,1040.0,119.6,0.109,0.4467,53.91,3.18,22.88,27.66,1606.0,0.3784,0.3063]  |1        |\n",
            "|[13.71,20.83,577.9,90.2,0.1645,0.5835,50.96,3.856,17.06,28.14,897.0,0.2678,0.3196]   |1        |\n",
            "|[13.0,21.82,519.8,87.5,0.1932,0.3063,24.32,2.406,15.49,30.73,739.3,0.539,0.4378]     |1        |\n",
            "|[12.46,24.04,475.9,83.97,0.2396,0.2976,23.94,2.039,15.09,40.68,711.4,1.105,0.4366]   |1        |\n",
            "+-------------------------------------------------------------------------------------+---------+\n",
            "only showing top 10 rows\n",
            "\n"
          ]
        }
      ]
    },
    {
      "cell_type": "markdown",
      "source": [
        "# Split data into training and testing"
      ],
      "metadata": {
        "id": "gk4nkGA_TzSY"
      }
    },
    {
      "cell_type": "code",
      "metadata": {
        "id": "oBKjD_9ykpe5"
      },
      "source": [
        "### split data into training and testing\n",
        "train_data,test_data=vector.randomSplit([0.8,0.2])\n",
        "## 80% for training, 20% for testing"
      ],
      "execution_count": null,
      "outputs": []
    },
    {
      "cell_type": "code",
      "source": [
        "train_data.count()"
      ],
      "metadata": {
        "colab": {
          "base_uri": "https://localhost:8080/"
        },
        "id": "g3Pxgn5pqluR",
        "outputId": "cac23598-a093-46fc-ee22-8396f69201a6"
      },
      "execution_count": null,
      "outputs": [
        {
          "output_type": "execute_result",
          "data": {
            "text/plain": [
              "452"
            ]
          },
          "metadata": {},
          "execution_count": 15
        }
      ]
    },
    {
      "cell_type": "code",
      "source": [
        "test_data.count()"
      ],
      "metadata": {
        "colab": {
          "base_uri": "https://localhost:8080/"
        },
        "id": "RTbpYGUsqrYC",
        "outputId": "3d8fd5cd-c578-48f0-c52e-fcc07f356bc5"
      },
      "execution_count": null,
      "outputs": [
        {
          "output_type": "execute_result",
          "data": {
            "text/plain": [
              "117"
            ]
          },
          "metadata": {},
          "execution_count": 16
        }
      ]
    },
    {
      "cell_type": "markdown",
      "source": [
        "# Model regresi logistik"
      ],
      "metadata": {
        "id": "YO4aaptVznzi"
      }
    },
    {
      "cell_type": "code",
      "metadata": {
        "id": "qO02lchJH1h-"
      },
      "source": [
        "# menginisialisasi model regresi logistik\n",
        "regressor=LogisticRegression(featuresCol=\"Predictors\",labelCol=\"diagnosis\",maxIter=1000) # iterasi/pengulangan max sampai ke 1000"
      ],
      "execution_count": null,
      "outputs": []
    },
    {
      "cell_type": "code",
      "metadata": {
        "id": "cSfQwNpTH1rq"
      },
      "source": [
        "##predict on training dataset\n",
        "lr_model = regressor.fit(train_data) ##.fit"
      ],
      "execution_count": null,
      "outputs": []
    },
    {
      "cell_type": "code",
      "source": [
        "lr_model.summary"
      ],
      "metadata": {
        "colab": {
          "base_uri": "https://localhost:8080/"
        },
        "id": "mHvcmx7MWT6f",
        "outputId": "41e49abc-1af0-4844-91db-da0454f60106"
      },
      "execution_count": null,
      "outputs": [
        {
          "output_type": "execute_result",
          "data": {
            "text/plain": [
              "<pyspark.ml.classification.BinaryLogisticRegressionTrainingSummary at 0x7f64c40eb390>"
            ]
          },
          "metadata": {},
          "execution_count": 19
        }
      ]
    },
    {
      "cell_type": "code",
      "source": [
        "lr_model.intercept"
      ],
      "metadata": {
        "colab": {
          "base_uri": "https://localhost:8080/"
        },
        "id": "Rmtl0NOPMMNs",
        "outputId": "e5839ae3-c486-4323-fe8a-6be14aab0fb6"
      },
      "execution_count": null,
      "outputs": [
        {
          "output_type": "execute_result",
          "data": {
            "text/plain": [
              "-29.42913779812215"
            ]
          },
          "metadata": {},
          "execution_count": 20
        }
      ]
    },
    {
      "cell_type": "code",
      "source": [
        "lr_model.coefficients"
      ],
      "metadata": {
        "colab": {
          "base_uri": "https://localhost:8080/"
        },
        "id": "ryl6BfboMAns",
        "outputId": "ca2a85b6-9641-4a4d-ae3c-23c2e57df105"
      },
      "execution_count": null,
      "outputs": [
        {
          "output_type": "execute_result",
          "data": {
            "text/plain": [
              "DenseVector([-4.5222, -0.0385, 0.007, 0.4064, -13.2217, -3.263, 0.1448, 0.0757, 2.1482, 0.2902, 0.0005, 6.1783, 17.8698])"
            ]
          },
          "metadata": {},
          "execution_count": 21
        }
      ]
    },
    {
      "cell_type": "markdown",
      "source": [
        "### Membandingkan \"diagnosis\" dari data testing dan hasil dari prediksi model"
      ],
      "metadata": {
        "id": "SztB9hrAxwYp"
      }
    },
    {
      "cell_type": "code",
      "source": [
        "predictions = lr_model.transform(test_data)"
      ],
      "metadata": {
        "id": "dSZkbNXtwv6P"
      },
      "execution_count": null,
      "outputs": []
    },
    {
      "cell_type": "code",
      "source": [
        "# data testing\n",
        "diagnosis_values = predictions.select(\"diagnosis\").rdd.flatMap(lambda x: x).collect()\n",
        "for i in range(0, len(diagnosis_values), 10):\n",
        "    print(diagnosis_values[i:i+10])"
      ],
      "metadata": {
        "colab": {
          "base_uri": "https://localhost:8080/"
        },
        "id": "SIOFPCA-w5sH",
        "outputId": "b27c2f79-271a-4a8a-921b-bc42f5320a64"
      },
      "execution_count": null,
      "outputs": [
        {
          "output_type": "stream",
          "name": "stdout",
          "text": [
            "[0, 0, 0, 0, 0, 0, 0, 0, 0, 0]\n",
            "[0, 0, 0, 0, 0, 0, 0, 0, 0, 0]\n",
            "[0, 0, 0, 0, 1, 0, 0, 0, 1, 0]\n",
            "[0, 0, 0, 0, 0, 0, 0, 0, 0, 0]\n",
            "[0, 0, 0, 0, 0, 0, 0, 0, 0, 0]\n",
            "[0, 0, 1, 0, 0, 0, 0, 0, 0, 0]\n",
            "[0, 0, 0, 1, 0, 0, 0, 0, 0, 0]\n",
            "[0, 0, 0, 0, 0, 1, 0, 1, 1, 1]\n",
            "[0, 1, 0, 1, 0, 0, 1, 1, 1, 1]\n",
            "[1, 1, 1, 1, 1, 0, 1, 1, 1, 1]\n",
            "[1, 0, 1, 1, 1, 1, 1, 1, 1, 1]\n",
            "[1, 1, 1, 1, 1, 1, 1]\n"
          ]
        }
      ]
    },
    {
      "cell_type": "code",
      "source": [
        "# data hasil prediksi\n",
        "predicted_values = predictions.select(\"prediction\").rdd.flatMap(lambda x: x).collect()\n",
        "for i in range(0, len(diagnosis_values), 10):\n",
        "    print(predicted_values[i:i+10])"
      ],
      "metadata": {
        "colab": {
          "base_uri": "https://localhost:8080/"
        },
        "id": "94bMif_Ow0po",
        "outputId": "c8199495-c9ab-49bf-d430-ee02ddcf8507"
      },
      "execution_count": null,
      "outputs": [
        {
          "output_type": "stream",
          "name": "stdout",
          "text": [
            "[0.0, 0.0, 0.0, 0.0, 0.0, 0.0, 0.0, 0.0, 0.0, 0.0]\n",
            "[0.0, 0.0, 0.0, 0.0, 0.0, 0.0, 0.0, 0.0, 0.0, 0.0]\n",
            "[0.0, 0.0, 0.0, 0.0, 0.0, 0.0, 0.0, 0.0, 1.0, 0.0]\n",
            "[0.0, 0.0, 0.0, 0.0, 0.0, 0.0, 0.0, 0.0, 0.0, 0.0]\n",
            "[0.0, 0.0, 0.0, 0.0, 0.0, 0.0, 0.0, 0.0, 0.0, 0.0]\n",
            "[0.0, 0.0, 1.0, 0.0, 0.0, 0.0, 0.0, 0.0, 0.0, 0.0]\n",
            "[0.0, 0.0, 0.0, 1.0, 0.0, 0.0, 0.0, 0.0, 0.0, 0.0]\n",
            "[0.0, 0.0, 0.0, 0.0, 0.0, 1.0, 0.0, 1.0, 1.0, 0.0]\n",
            "[0.0, 1.0, 0.0, 1.0, 0.0, 0.0, 0.0, 1.0, 1.0, 1.0]\n",
            "[1.0, 1.0, 1.0, 1.0, 1.0, 1.0, 1.0, 1.0, 1.0, 1.0]\n",
            "[1.0, 1.0, 1.0, 1.0, 1.0, 1.0, 1.0, 1.0, 1.0, 1.0]\n",
            "[1.0, 1.0, 1.0, 1.0, 1.0, 1.0, 1.0]\n"
          ]
        }
      ]
    },
    {
      "cell_type": "markdown",
      "source": [
        "# plotting Area Under Curve (AUC) as accuracy level"
      ],
      "metadata": {
        "id": "xi7_2ZP1VwFd"
      }
    },
    {
      "cell_type": "code",
      "metadata": {
        "id": "Sg5uOOSKlJ2W",
        "colab": {
          "base_uri": "https://localhost:8080/",
          "height": 490
        },
        "outputId": "f4f77d08-eb46-4d40-9b28-7ffe1d954dd4"
      },
      "source": [
        "lr_model_summary = lr_model.summary\n",
        "roc = lr_model_summary.roc.toPandas()\n",
        "\n",
        "plt.plot([0, 1], [0, 1], 'g--')\n",
        "plt.plot(roc['FPR'],roc['TPR'])\n",
        "\n",
        "#FPR (False Positive Rate) di sumbu-x\n",
        "#TPR (True Positive Rate) di sumbu-y\n",
        "plt.xlabel('False Positive Rate')\n",
        "plt.ylabel('True Positive Rate')\n",
        "\n",
        "plt.title('ROC Curve')\n",
        "plt.show()\n",
        "print('TrainSet areaUnderROC: ' + str(lr_model_summary.areaUnderROC))"
      ],
      "execution_count": null,
      "outputs": [
        {
          "output_type": "display_data",
          "data": {
            "text/plain": [
              "<Figure size 640x480 with 1 Axes>"
            ],
            "image/png": "[encoded data removed]"
          },
          "metadata": {}
        },
        {
          "output_type": "stream",
          "name": "stdout",
          "text": [
            "TrainSet areaUnderROC: 0.9954834566059624\n"
          ]
        }
      ]
    },
    {
      "cell_type": "markdown",
      "source": [
        "Interpretasi:\n",
        "\n",
        "Setelah itu, dalam regresi logistik, kita bisa memvisualisasikan kualitas model dengan menggunakan grafik Area Under the Curve (AUC). Maka saya buat variabel baru bernama LR_model_summary untuk menyimpan ringkasan hasil model.\n",
        "Dengan menggunakan fungsi \"summary\", kita bisa melihat hasil evaluasi dari model tersebut. Kemudian menampilkan grafik AUC-nya.\n",
        "Dan diperoleh, Nilai AUC yang dihasilkan adalah 0.99.\n",
        "\n",
        "Artinya: semakin besar nilai AUC, maka semakin akurat model klasifikasi binernya (dalam hal membedakan antara dua kelas — misalnya: tumor ganas vs jinak)."
      ],
      "metadata": {
        "id": "b7mO6FM7Wy2O"
      }
    },
    {
      "cell_type": "markdown",
      "source": [
        "# Evaluasi model pada data testing"
      ],
      "metadata": {
        "id": "YSHZ1OaCXkpt"
      }
    },
    {
      "cell_type": "code",
      "metadata": {
        "id": "jUKHyypzllA5"
      },
      "source": [
        "# evaluasi klasifikasi biner\n",
        "lr_model_test = regressor.fit(test_data) ##.fit"
      ],
      "execution_count": null,
      "outputs": []
    },
    {
      "cell_type": "code",
      "metadata": {
        "id": "IUzwLcJ-qDgh",
        "colab": {
          "base_uri": "https://localhost:8080/"
        },
        "outputId": "afb8b38f-4ddc-4263-9e79-1489b2cadc16"
      },
      "source": [
        "lr_model_test = lr_model.transform(test_data) ##.fit\n",
        "\n",
        "evaluator = BinaryClassificationEvaluator(rawPredictionCol='rawPrediction', labelCol='diagnosis')\n",
        "print('Test Area Under ROC', evaluator.evaluate(lr_model_test))\n",
        "# menghitung luas dibawah kurva ROC"
      ],
      "execution_count": null,
      "outputs": [
        {
          "output_type": "stream",
          "name": "stdout",
          "text": [
            "Test Area Under ROC 0.9957264957264957\n"
          ]
        }
      ]
    },
    {
      "cell_type": "markdown",
      "source": [
        "Model ini sangat bagus dalam membedakan antara dua kelas (termasuk tumor jinak dan tumor ganas), karena nilai AUC-nya mendekati 1 (0.986). Ini berarti model bisa membedakan data positif dan negatif dengan tingkat akurasi yang sangat tinggi, hampir sempurna."
      ],
      "metadata": {
        "id": "tlsDKM5oSKvD"
      }
    },
    {
      "cell_type": "markdown",
      "source": [
        "## Mencoba menerapkan model regresi logistik ke data yang baru"
      ],
      "metadata": {
        "id": "5y1VtiYXgvys"
      }
    },
    {
      "cell_type": "code",
      "source": [
        "from pyspark.sql import Row\n",
        "from pyspark.ml.feature import VectorAssembler\n",
        "from pyspark.sql.functions import when, col\n",
        "\n",
        "# 1. Ambil input manual dari pengguna\n",
        "input_data = []\n",
        "for fitur in Pred_corr:\n",
        "    nilai = float(input(f\"Masukkan nilai untuk {fitur}: \"))\n",
        "    input_data.append(nilai)\n",
        "\n",
        "# 2. Buat DataFrame dari input\n",
        "row_input = Row(*Pred_corr)\n",
        "data_baru = spark.createDataFrame([row_input(*input_data)])\n",
        "\n",
        "# 3. Gabungkan semua kolom fitur jadi satu kolom vektor \"Predictors\"\n",
        "assembler = VectorAssembler(inputCols=Pred_corr, outputCol=\"Predictors\")\n",
        "data_baru_vector = assembler.transform(data_baru)\n",
        "\n",
        "# 4. Gunakan model regresi logistik yang sudah dilatih untuk prediksi\n",
        "hasil = lr_model.transform(data_baru_vector)\n",
        "\n",
        "# 5. Tampilkan hasil prediksi (M atau B)\n",
        "hasil = hasil.withColumn(\"diagnosis_prediksi\",\n",
        "                         when(col(\"prediction\") == 1.0, \"M\").otherwise(\"B\"))\n",
        "\n",
        "hasil.select(\"prediction\", \"diagnosis_prediksi\").show()"
      ],
      "metadata": {
        "colab": {
          "base_uri": "https://localhost:8080/"
        },
        "id": "5IHuWamudlEt",
        "outputId": "66fffc81-34b2-4af7-eded-69f679b4fd44"
      },
      "execution_count": null,
      "outputs": [
        {
          "output_type": "stream",
          "name": "stdout",
          "text": [
            "Masukkan nilai untuk radius_mean: 15\n",
            "Masukkan nilai untuk texture_mean: 15\n",
            "Masukkan nilai untuk area_mean: 100\n",
            "Masukkan nilai untuk perimeter_mean: 100\n",
            "Masukkan nilai untuk compactness_mean: 0.5\n",
            "Masukkan nilai untuk radius_se: 0.5\n",
            "Masukkan nilai untuk area_se: 100\n",
            "Masukkan nilai untuk perimeter_se: 7\n",
            "Masukkan nilai untuk radius_worst: 20\n",
            "Masukkan nilai untuk texture_worst: 20\n",
            "Masukkan nilai untuk area_worst: 2000\n",
            "Masukkan nilai untuk concavity_worst: 0.5\n",
            "Masukkan nilai untuk symmetry_worst: 0.5\n",
            "+----------+------------------+\n",
            "|prediction|diagnosis_prediksi|\n",
            "+----------+------------------+\n",
            "|       1.0|                 M|\n",
            "+----------+------------------+\n",
            "\n"
          ]
        }
      ]
    }
  ]
}